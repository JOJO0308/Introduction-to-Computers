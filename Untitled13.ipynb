{
  "nbformat": 4,
  "nbformat_minor": 0,
  "metadata": {
    "colab": {
      "provenance": [],
      "authorship_tag": "ABX9TyMzVu7EHWFoV3lzb8PLr3ha",
      "include_colab_link": true
    },
    "kernelspec": {
      "name": "python3",
      "display_name": "Python 3"
    },
    "language_info": {
      "name": "python"
    }
  },
  "cells": [
    {
      "cell_type": "markdown",
      "metadata": {
        "id": "view-in-github",
        "colab_type": "text"
      },
      "source": [
        "<a href=\"https://colab.research.google.com/github/JOJO0308/Introduction-to-Computers/blob/main/Untitled13.ipynb\" target=\"_parent\"><img src=\"https://colab.research.google.com/assets/colab-badge.svg\" alt=\"Open In Colab\"/></a>"
      ]
    },
    {
      "cell_type": "code",
      "execution_count": 3,
      "metadata": {
        "colab": {
          "base_uri": "https://localhost:8080/",
          "height": 143
        },
        "id": "irSBezuCc8IC",
        "outputId": "f076a5ab-9342-4e2d-e829-055d395e221e"
      },
      "outputs": [
        {
          "output_type": "error",
          "ename": "SyntaxError",
          "evalue": "invalid syntax (<ipython-input-3-c0b338f6535b>, line 43)",
          "traceback": [
            "\u001b[0;36m  File \u001b[0;32m\"<ipython-input-3-c0b338f6535b>\"\u001b[0;36m, line \u001b[0;32m43\u001b[0m\n\u001b[0;31m    'like': 7,\u001b[0m\n\u001b[0m          ^\u001b[0m\n\u001b[0;31mSyntaxError\u001b[0m\u001b[0;31m:\u001b[0m invalid syntax\n"
          ]
        }
      ],
      "source": [
        "fh1 = open('./keyword.csv', 'r', encoding = 'big5')\n",
        "brand_dict = dict()\n",
        "for line in fh1:\n",
        "    temp = line.lower().replace('\\n', '').replace(' ', '').split('\\\"')\n",
        "    brand_dict[temp[0].replace(',', '')] = temp[1].split(',')\n",
        "\n",
        "a, b, c, d, e, f, g, h, i, j = list(brand_dict.keys())\n",
        "driver = webdriver.Chrome('./chromedriver.exe')\n",
        "driver.get(index)\n",
        "driver.add_cookie({'name': 'over18', 'value': '1'})\n",
        "driver.get(index)\n",
        "for i in soup.find_all('div', 'r-ent'):\n",
        "    meta = i.find('div', 'title').find('a') or not_exist\n",
        "    date = dt.datetime.strptime(i.find('div', 'date').getText().strip(), '%m/%d').strftime('%m-%d')\n",
        "    if meta.getText().strip() != '(本文已被刪除)' and start_date <= date <= end_date:\n",
        "        articles.append({\n",
        "            'title': meta.getText().strip(),\n",
        "            'date': i.find('div', 'date').getText(),\n",
        "            'link': 'https://www.ptt.cc' + meta.get('href'),\n",
        "        })\n",
        "for j in articles:\n",
        "    req = requests.Session()\n",
        "    req.cookies.set('over18', '1')\n",
        "    response2 = req.get(j['link'])\n",
        "    soup2 = BeautifulSoup(response2.text, 'lxml')\n",
        "\n",
        "    j['like'] = j['dislike'] = j['other'] = 0\n",
        "    for i in soup2.find_all('div', 'push'):\n",
        "        temp = i.find('span')\n",
        "        if temp == None:\n",
        "            break\n",
        "        else:\n",
        "            if temp.getText() == '推 ':\n",
        "                j['like'] += 1\n",
        "            elif temp.getText() == '噓 ':\n",
        "                j['dislike'] += 1\n",
        "            else:\n",
        "                j['other'] += 1\n",
        "    j['total'] = j['like'] + j['dislike'] + j['other']\n",
        "articles = [{'title': '[問卦] 有沒有住在陶朱隱園的鄉民？',\n",
        "             'date': '7/10',\n",
        "             'link': 'https://www.ptt.cc/bbs/Gossiping/M.1562728765.A.461.html'},\n",
        "             'like': 7,\n",
        "             'dislike': 2,\n",
        "             'other': 6,\n",
        "             'total': 15\n",
        "            {...},\n",
        "            ...\n",
        "            ]\n",
        "def calculate_freq(txt, brand_name_list, brand_name):\n",
        "    brand = ''\n",
        "    for keyword in brand_name_list:\n",
        "        if keyword in txt:\n",
        "            brand = brand_name\n",
        "    return brand"
      ]
    }
  ]
}