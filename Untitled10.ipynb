{
  "nbformat": 4,
  "nbformat_minor": 0,
  "metadata": {
    "colab": {
      "provenance": [],
      "authorship_tag": "ABX9TyMkNxnVs5177o9BeI4sN8hI",
      "include_colab_link": true
    },
    "kernelspec": {
      "name": "python3",
      "display_name": "Python 3"
    },
    "language_info": {
      "name": "python"
    }
  },
  "cells": [
    {
      "cell_type": "markdown",
      "metadata": {
        "id": "view-in-github",
        "colab_type": "text"
      },
      "source": [
        "<a href=\"https://colab.research.google.com/github/JOJO0308/Introduction-to-Computers/blob/main/Untitled10.ipynb\" target=\"_parent\"><img src=\"https://colab.research.google.com/assets/colab-badge.svg\" alt=\"Open In Colab\"/></a>"
      ]
    },
    {
      "cell_type": "code",
      "source": [
        "list1 = list()\n",
        "numbers = int(input(\"請輸入數字（-1結束）：\"))\n",
        "while numbers != -1:\n",
        "    list1.append(numbers)\n",
        "    numbers = int(input(\"請輸入數字（-1結束）：\"))\n",
        "print(\"list：\", list1)\n",
        "for numbers in list1:\n",
        "  if (numbers % 2 == 0):\n",
        "    print(numbers)"
      ],
      "metadata": {
        "colab": {
          "base_uri": "https://localhost:8080/"
        },
        "id": "Y0OMQf6C07BS",
        "outputId": "54bd15bb-dab2-4a5b-99ae-2b93df7d9e9e"
      },
      "execution_count": 51,
      "outputs": [
        {
          "output_type": "stream",
          "name": "stdout",
          "text": [
            "請輸入數字（-1結束）：12\n",
            "請輸入數字（-1結束）：14\n",
            "請輸入數字（-1結束）：8\n",
            "請輸入數字（-1結束）：3\n",
            "請輸入數字（-1結束）：1\n",
            "請輸入數字（-1結束）：90\n",
            "請輸入數字（-1結束）：-1\n",
            "list： [12, 14, 8, 3, 1, 90]\n",
            "12\n",
            "14\n",
            "8\n",
            "90\n"
          ]
        }
      ]
    }
  ]
}