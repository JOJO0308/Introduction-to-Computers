{
  "nbformat": 4,
  "nbformat_minor": 0,
  "metadata": {
    "colab": {
      "provenance": [],
      "authorship_tag": "ABX9TyMS6lZSmyKk05BRX9dSeOpP",
      "include_colab_link": true
    },
    "kernelspec": {
      "name": "python3",
      "display_name": "Python 3"
    },
    "language_info": {
      "name": "python"
    }
  },
  "cells": [
    {
      "cell_type": "markdown",
      "metadata": {
        "id": "view-in-github",
        "colab_type": "text"
      },
      "source": [
        "<a href=\"https://colab.research.google.com/github/JOJO0308/Introduction-to-Computers/blob/main/409860482_%E8%AC%9D%E7%A1%AF%E4%B8%9E_0503_%E8%80%83%E8%A9%A6%E9%A1%8C%E7%9B%AE.ipynb\" target=\"_parent\"><img src=\"https://colab.research.google.com/assets/colab-badge.svg\" alt=\"Open In Colab\"/></a>"
      ]
    },
    {
      "cell_type": "code",
      "execution_count": null,
      "metadata": {
        "colab": {
          "base_uri": "https://localhost:8080/"
        },
        "id": "Zk6a0-RqBnEY",
        "outputId": "d2b4924b-293f-437e-b7bb-d5f0ad422160"
      },
      "outputs": [
        {
          "output_type": "stream",
          "name": "stdout",
          "text": [
            "peiyu\n",
            "peiyu\n"
          ]
        }
      ],
      "source": [
        "#1\n",
        "print(input())"
      ]
    },
    {
      "cell_type": "code",
      "source": [
        "#2\n",
        "a = (input())\n",
        "print(len(a))"
      ],
      "metadata": {
        "colab": {
          "base_uri": "https://localhost:8080/"
        },
        "id": "9yeylduOCFlH",
        "outputId": "8bf7a352-962c-4700-d6b1-1e22aa7c445e"
      },
      "execution_count": 25,
      "outputs": [
        {
          "output_type": "stream",
          "name": "stdout",
          "text": [
            "hello panda hi hi\n",
            "17\n"
          ]
        }
      ]
    },
    {
      "cell_type": "code",
      "source": [
        "#3\n",
        "h,w = input().split(\",\")\n",
        "new_h = int(h)\n",
        "new_w = int(w)\n",
        "m_h = int(h) / 100\n",
        "bmi = new_w / m_h**2\n",
        "print(\"%.2f\" %bmi)"
      ],
      "metadata": {
        "colab": {
          "base_uri": "https://localhost:8080/"
        },
        "id": "m4KJrP6AU3xJ",
        "outputId": "633e8bbc-2078-4786-d24c-89e3e1efc642"
      },
      "execution_count": 24,
      "outputs": [
        {
          "output_type": "stream",
          "name": "stdout",
          "text": [
            "180,70\n",
            "21.60\n"
          ]
        }
      ]
    },
    {
      "cell_type": "code",
      "source": [
        "#4\n",
        "a = int(input())\n",
        "sum = 0\n",
        "for i in range(10, a+1):\n",
        "  sum += i\n",
        "print(sum)"
      ],
      "metadata": {
        "id": "eEUByWTEe6cS",
        "colab": {
          "base_uri": "https://localhost:8080/"
        },
        "outputId": "9a1a7901-929e-4cb2-8373-34e0342bde8b"
      },
      "execution_count": null,
      "outputs": [
        {
          "output_type": "stream",
          "name": "stdout",
          "text": [
            "20\n",
            "165\n"
          ]
        }
      ]
    }
  ]
}