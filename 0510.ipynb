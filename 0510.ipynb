{
  "nbformat": 4,
  "nbformat_minor": 0,
  "metadata": {
    "colab": {
      "provenance": [],
      "authorship_tag": "ABX9TyOA9YieZn/oVTD3qlqtRcrd",
      "include_colab_link": true
    },
    "kernelspec": {
      "name": "python3",
      "display_name": "Python 3"
    },
    "language_info": {
      "name": "python"
    }
  },
  "cells": [
    {
      "cell_type": "markdown",
      "metadata": {
        "id": "view-in-github",
        "colab_type": "text"
      },
      "source": [
        "<a href=\"https://colab.research.google.com/github/JOJO0308/Introduction-to-Computers/blob/main/0510.ipynb\" target=\"_parent\"><img src=\"https://colab.research.google.com/assets/colab-badge.svg\" alt=\"Open In Colab\"/></a>"
      ]
    },
    {
      "cell_type": "code",
      "execution_count": 1,
      "metadata": {
        "colab": {
          "base_uri": "https://localhost:8080/"
        },
        "id": "EwXwhSgvufyH",
        "outputId": "fecbee57-e0c3-4ccc-b12e-cd0b9e7f6b93"
      },
      "outputs": [
        {
          "output_type": "stream",
          "name": "stdout",
          "text": [
            "hi\n"
          ]
        }
      ],
      "source": [
        "print(\"hi\")"
      ]
    },
    {
      "cell_type": "code",
      "source": [
        "score = int(input(\"請輸入分數: \"))\n",
        "if score >= 60:\n",
        "  print(\"及格\")\n",
        "else:\n",
        "  print(\"不及格\")"
      ],
      "metadata": {
        "colab": {
          "base_uri": "https://localhost:8080/"
        },
        "id": "rGJ7XiEWvGSf",
        "outputId": "30ad8937-4ed3-4e61-d607-cf88297e2f29"
      },
      "execution_count": 2,
      "outputs": [
        {
          "output_type": "stream",
          "name": "stdout",
          "text": [
            "請輸入分數: 60\n",
            "及格\n"
          ]
        }
      ]
    },
    {
      "cell_type": "code",
      "source": [
        "pw = int(input(\"請輸入密碼: \"))\n",
        "if pw == 1234:\n",
        "  print(\"歡迎光臨!\")"
      ],
      "metadata": {
        "colab": {
          "base_uri": "https://localhost:8080/"
        },
        "id": "Qd-f7QFTvGVB",
        "outputId": "f960ba8f-7c12-482e-df34-1389b9838152"
      },
      "execution_count": 4,
      "outputs": [
        {
          "output_type": "stream",
          "name": "stdout",
          "text": [
            "請輸入密碼: 1234\n",
            "歡迎光臨!\n"
          ]
        }
      ]
    },
    {
      "cell_type": "code",
      "source": [
        "pw = int(input(\"請輸入密碼: \"))\n",
        "if pw == 5678:\n",
        "  print(\"歡迎光臨!\")\n",
        "else:\n",
        "  print(\"密碼錯誤!\")"
      ],
      "metadata": {
        "colab": {
          "base_uri": "https://localhost:8080/"
        },
        "id": "O9p08ZJUvGXu",
        "outputId": "8f92a00c-239a-4324-c8cd-696334c8c6d2"
      },
      "execution_count": 5,
      "outputs": [
        {
          "output_type": "stream",
          "name": "stdout",
          "text": [
            "請輸入密碼: 5679\n",
            "密碼錯誤!\n"
          ]
        }
      ]
    },
    {
      "cell_type": "code",
      "source": [
        "rain = input(\"今天會下雨嗎?\")\n",
        "if(rain==\"Y\" or rain==\"y\"):\n",
        "  print(\"出門記得帶傘!\")"
      ],
      "metadata": {
        "colab": {
          "base_uri": "https://localhost:8080/"
        },
        "id": "7vv7N2jT1pzf",
        "outputId": "58a1ce0b-d769-4aa7-8eea-69e939f769fc"
      },
      "execution_count": 9,
      "outputs": [
        {
          "output_type": "stream",
          "name": "stdout",
          "text": [
            "今天會下雨嗎?Y\n",
            "出門記得帶傘!\n"
          ]
        }
      ]
    },
    {
      "cell_type": "code",
      "source": [
        "num = int(input(\"請輸入數字: \"))\n",
        "if num ** 2 == 0:\n",
        "  print(\"%d為偶數!\"% num)\n",
        "else:\n",
        "  print(\"%d為奇數!\"% num)"
      ],
      "metadata": {
        "colab": {
          "base_uri": "https://localhost:8080/"
        },
        "id": "MvNHSN_m1CHo",
        "outputId": "50edd7be-2684-40d0-b3c0-759f373e3732"
      },
      "execution_count": 7,
      "outputs": [
        {
          "output_type": "stream",
          "name": "stdout",
          "text": [
            "請輸入數字: 25\n",
            "25為奇數!\n"
          ]
        }
      ]
    }
  ]
}