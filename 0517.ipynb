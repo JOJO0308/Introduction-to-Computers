{
  "nbformat": 4,
  "nbformat_minor": 0,
  "metadata": {
    "colab": {
      "provenance": [],
      "authorship_tag": "ABX9TyM97YeYnwLyZVB477MxhH//",
      "include_colab_link": true
    },
    "kernelspec": {
      "name": "python3",
      "display_name": "Python 3"
    },
    "language_info": {
      "name": "python"
    }
  },
  "cells": [
    {
      "cell_type": "markdown",
      "metadata": {
        "id": "view-in-github",
        "colab_type": "text"
      },
      "source": [
        "<a href=\"https://colab.research.google.com/github/JOJO0308/Introduction-to-Computers/blob/main/0517.ipynb\" target=\"_parent\"><img src=\"https://colab.research.google.com/assets/colab-badge.svg\" alt=\"Open In Colab\"/></a>"
      ]
    },
    {
      "cell_type": "code",
      "execution_count": null,
      "metadata": {
        "colab": {
          "base_uri": "https://localhost:8080/"
        },
        "id": "myAV6LA1w5zS",
        "outputId": "3c3ff819-5dd6-4381-ecda-ce0eb9f15821"
      },
      "outputs": [
        {
          "output_type": "stream",
          "name": "stdout",
          "text": [
            "hello\n"
          ]
        }
      ],
      "source": [
        "print(\"hello\")"
      ]
    },
    {
      "cell_type": "code",
      "source": [
        "score = int(input(\"score: \"))\n",
        "if score >= 90:\n",
        "    print('Grade is: A')\n",
        "elif score >= 80:\n",
        "    print('Grade is: B')\n",
        "elif score >= 70:\n",
        "    print('Grade is: C')\n",
        "elif score >= 60:\n",
        "    print('Grade is: D')\n",
        "else:\n",
        "    print('Grade is: F')"
      ],
      "metadata": {
        "colab": {
          "base_uri": "https://localhost:8080/"
        },
        "id": "mlWqmTFAzAz0",
        "outputId": "76d896da-a85e-4ca9-d0ba-9272059bdbad"
      },
      "execution_count": null,
      "outputs": [
        {
          "output_type": "stream",
          "name": "stdout",
          "text": [
            "score: 59\n",
            "Grade is: F\n"
          ]
        }
      ]
    },
    {
      "cell_type": "code",
      "source": [
        "rain = input(\"今天會下雨嗎?\")\n",
        "if(rain==\"Y\" or rain==\"y\"):\n",
        "  print(\"出門記得帶傘!\")\n",
        "elif(rain=='N' or rain=='n'):\n",
        "  print(\"不用帶傘!\")\n",
        "else:\n",
        "  print('無效代號!請重新輸入一遍!')"
      ],
      "metadata": {
        "colab": {
          "base_uri": "https://localhost:8080/"
        },
        "id": "hhYO77po0Nq4",
        "outputId": "4375c3e6-5fbb-492b-d42e-1a3e58c642bc"
      },
      "execution_count": null,
      "outputs": [
        {
          "output_type": "stream",
          "name": "stdout",
          "text": [
            "今天會下雨嗎?A\n",
            "無效代號!請重新輸入一遍!\n"
          ]
        }
      ]
    },
    {
      "cell_type": "code",
      "source": [
        "temperature = float(input('請輸入您的體溫: '))\n",
        "if (temperature >= 37.5):\n",
        "  print('體溫過高!')\n",
        "elif 37 <= temperature <= 37.4:\n",
        "  print('體溫略高!')\n",
        "elif 34 <= temperature <= 36.9:\n",
        "  print('體溫正常!')\n",
        "else:\n",
        "  print('體溫異常!請重新量測!')"
      ],
      "metadata": {
        "colab": {
          "base_uri": "https://localhost:8080/"
        },
        "id": "PsnyFUbL0Ntk",
        "outputId": "bf8a9ed0-aa35-4816-9621-37d69fd160d5"
      },
      "execution_count": null,
      "outputs": [
        {
          "output_type": "stream",
          "name": "stdout",
          "text": [
            "請輸入您的體溫: 33\n",
            "體溫異常!請重新量測!\n"
          ]
        }
      ]
    },
    {
      "cell_type": "code",
      "source": [
        "score = int(input(\"請輸入成績\"))\n",
        "if score >= 90:\n",
        "    print('A')\n",
        "elif score >= 80:\n",
        "    print('B')\n",
        "elif score >= 70:\n",
        "    print('C')\n",
        "elif score >= 60:\n",
        "    print('D')\n",
        "else:\n",
        "    print('E')"
      ],
      "metadata": {
        "colab": {
          "base_uri": "https://localhost:8080/"
        },
        "id": "zkN9e4mw0NwR",
        "outputId": "f4d07b1f-83ba-43bf-d81e-bee8b132149b"
      },
      "execution_count": null,
      "outputs": [
        {
          "output_type": "stream",
          "name": "stdout",
          "text": [
            "請輸入成績50\n",
            "E\n"
          ]
        }
      ]
    },
    {
      "cell_type": "code",
      "source": [
        "month = int(input(\"請輸入月份: \"))\n",
        "if (month>=1 and month<=12):\n",
        "  if (month == 3 or month == 4 or month == 5):\n",
        "    print(\"%d 月是春天!\" % month)\n",
        "  elif (month == 6 or month == 7 or month == 8):\n",
        "    print(\"%d 月是夏天!\" % month)\n",
        "  elif (month == 9 or month == 10 or month == 11):\n",
        "    print(\"%d 月是秋天!\" % month)  \n",
        "  else:\n",
        "    print(\"%d 月是冬天!\" % month)  \n",
        "else:\n",
        "  print(\"月份不在範圍內!\")"
      ],
      "metadata": {
        "colab": {
          "base_uri": "https://localhost:8080/"
        },
        "id": "BjhEOn330Nzk",
        "outputId": "87daf3df-41f5-47b3-8263-e8e2c195b749"
      },
      "execution_count": null,
      "outputs": [
        {
          "output_type": "stream",
          "name": "stdout",
          "text": [
            "請輸入月份: 13\n",
            "月份不在範圍內!\n"
          ]
        }
      ]
    },
    {
      "cell_type": "code",
      "source": [
        "income = int(input(\"請輸入今年收入淨額: \"))\n",
        "if income >= 2000000:\n",
        "  tax = income * 0.3\n",
        "  print(\"付稅金額: %.1f 元\" % tax)\n",
        "elif income >= 1000000:\n",
        "  tax = income * 0.21\n",
        "  print(\"付稅金額: %.1f 元\" % tax)\n",
        "elif income >= 600000:\n",
        "  tax = income * 0.13\n",
        "  print(\"付稅金額: %.1f 元\" % tax)\n",
        "elif income >= 300000:\n",
        "  tax = income * 0.06\n",
        "  print(\"付稅金額: %.1f 元\" % tax)\n",
        "else:\n",
        "  tax = income * 0\n",
        "  print(\"付稅金額: %.1f 元\" % tax)\n"
      ],
      "metadata": {
        "colab": {
          "base_uri": "https://localhost:8080/"
        },
        "id": "qKBMjX8e6zGF",
        "outputId": "482c60df-7e79-4646-d609-e3418c41bef4"
      },
      "execution_count": 35,
      "outputs": [
        {
          "output_type": "stream",
          "name": "stdout",
          "text": [
            "請輸入今年收入淨額: 2000000\n",
            "付稅金額: 600000.0 元\n"
          ]
        }
      ]
    }
  ]
}